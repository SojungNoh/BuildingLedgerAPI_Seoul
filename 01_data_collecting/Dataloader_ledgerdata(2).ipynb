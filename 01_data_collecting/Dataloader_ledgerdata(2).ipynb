{
 "cells": [
  {
   "cell_type": "code",
   "execution_count": 1,
   "id": "3146a1dc-a6fd-4503-a2fc-cbb80f294b58",
   "metadata": {},
   "outputs": [],
   "source": [
    "import os\n",
    "import numpy as np\n",
    "import pandas as pd\n",
    "import time\n",
    "import multiprocessing\n",
    "from multiprocessing.pool import Pool\n",
    "\n",
    "# Data Parsing\n",
    "import requests\n",
    "import urllib\n",
    "from bs4 import BeautifulSoup\n",
    "\n",
    "\n",
    "# Input\n",
    "from input_gen import land_code_list, dong_dict, land_code2name\n",
    "from call_API_ledger import dataframe_gu\n",
    "import call_API_ledger"
   ]
  },
  {
   "cell_type": "code",
   "execution_count": 2,
   "id": "0518101a-e19e-46d3-aa68-2d32533f9286",
   "metadata": {},
   "outputs": [],
   "source": [
    "# basic information\n",
    "serviceKey = 'HTG5wI52YQfJz9FvFGJWO%2BVs5yev%2Fj32NpNY8aMdA1pNOGntG5pAQZ1K%2FQtlUH0sRAefRtMTL6ENcxaIyHBbTQ%3D%3D'\n",
    "operations = ['getBrBasisOulnInfo', 'getBrRecapTitleInfo', 'getBrTitleInfo', 'getBrExposInfo']"
   ]
  },
  {
   "cell_type": "code",
   "execution_count": null,
   "id": "fb4115a7-808d-407d-b772-7888bd0d5756",
   "metadata": {},
   "outputs": [],
   "source": [
    "# Loop for all the GU\n",
    "land_code = land_code_list[2]\n",
    "\n",
    "start = time.time()\n",
    "os.mkdir(f'..\\\\00_data\\\\building_ledger\\\\{land_code2name[land_code]}')\n",
    "land_code = int(land_code)\n",
    "\n",
    "ops_args = []\n",
    "for i in [0, 1, 2, 3]: # 5번 7번에 문제 있음\n",
    "    arg = (operations[i], land_code, serviceKey)\n",
    "    ops_args.append(arg)\n",
    "\n",
    "# process multi-tasking\n",
    "with multiprocessing.Pool() as p:\n",
    "    result = p.starmap(dataframe_gu, ops_args)\n",
    "end = time.time()\n",
    "print(f\"Total time consumed {(end-start)/60} minutes\")"
   ]
  },
  {
   "cell_type": "code",
   "execution_count": null,
   "id": "87591648-2368-40ef-a73c-75c88792fc2b",
   "metadata": {},
   "outputs": [],
   "source": []
  }
 ],
 "metadata": {
  "kernelspec": {
   "display_name": "Python 3 (ipykernel)",
   "language": "python",
   "name": "python3"
  },
  "language_info": {
   "codemirror_mode": {
    "name": "ipython",
    "version": 3
   },
   "file_extension": ".py",
   "mimetype": "text/x-python",
   "name": "python",
   "nbconvert_exporter": "python",
   "pygments_lexer": "ipython3",
   "version": "3.9.13"
  }
 },
 "nbformat": 4,
 "nbformat_minor": 5
}
