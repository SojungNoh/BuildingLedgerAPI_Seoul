{
 "cells": [
  {
   "cell_type": "markdown",
   "id": "b0f32307-a134-4535-9c38-fd36029a4372",
   "metadata": {},
   "source": [
    "# Building Ledger Data Parsing via Government API\n",
    "\n",
    "- **Building ledger API**: https://www.data.go.kr/data/15044713/openapi.do\n",
    "\n",
    "This file aims to gather building ledger data for all the regions of the city of Seoul, for all period possible.\n",
    "Thus, exporting the dataframe into csv, which will be the input for machine learning algorithms.\n",
    "Additionally, the building ledger data will be the crucial source to match adress data, which defines the location of the property.\n",
    "This is absent(encrypted) in the original transaction data."
   ]
  },
  {
   "cell_type": "code",
   "execution_count": 1,
   "id": "a9eee8fa-4f54-493c-8a25-f244a157e867",
   "metadata": {},
   "outputs": [],
   "source": [
    "import os\n",
    "import numpy as np\n",
    "import pandas as pd\n",
    "import time\n",
    "import multiprocessing\n",
    "from multiprocessing.pool import Pool\n",
    "\n",
    "# Data Parsing\n",
    "import requests\n",
    "import urllib\n",
    "from bs4 import BeautifulSoup\n",
    "\n",
    "\n",
    "# Input\n",
    "from input_gen import land_code_list, dong_dict, land_code2name\n",
    "from call_API_ledger import dataframe_gu\n",
    "import call_API_ledger"
   ]
  },
  {
   "cell_type": "markdown",
   "id": "9b96a8b0-5d82-42d4-a1a9-47799889ff1c",
   "metadata": {},
   "source": [
    "### (1) 강남구 모든 부동산에 대한 기본개요 수집"
   ]
  },
  {
   "cell_type": "code",
   "execution_count": null,
   "id": "218ef9e9-3adb-45d8-b353-4c8921d728ed",
   "metadata": {},
   "outputs": [],
   "source": []
  },
  {
   "cell_type": "code",
   "execution_count": 9,
   "id": "3b7ffce5-6b48-4fbe-bc30-4bf5a564a0c7",
   "metadata": {
    "tags": []
   },
   "outputs": [],
   "source": [
    "# basic information\n",
    "serviceKey = 'HTG5wI52YQfJz9FvFGJWO%2BVs5yev%2Fj32NpNY8aMdA1pNOGntG5pAQZ1K%2FQtlUH0sRAefRtMTL6ENcxaIyHBbTQ%3D%3D'\n",
    "operations = ['getBrBasisOulnInfo', 'getBrRecapTitleInfo', 'getBrTitleInfo', 'getBrFlrOulnInfo', 'getBrAtchJibunInfo', 'getBrExposPubuseAreaInfo', 'getBrWclfInfo', 'getBrHsprcInfo', 'getBrExposInfo', 'getBrJijiguInfo']"
   ]
  },
  {
   "cell_type": "code",
   "execution_count": null,
   "id": "e6154685-5820-4018-bccf-499fdc989e93",
   "metadata": {},
   "outputs": [],
   "source": [
    "# Loop for all the GU\n",
    "land_code = land_code_list[0]\n",
    "\n",
    "start = time.time()\n",
    "os.mkdir(f'..\\\\00_data\\\\building_ledger\\\\{land_code2name[land_code]}')\n",
    "land_code = int(land_code)\n",
    "\n",
    "ops_args = []\n",
    "for i in [0, 1, 2, 3, 4, 6, 8, 9]: # 5번 7번에 문제 있음\n",
    "    arg = (operations[i], land_code, serviceKey)\n",
    "    ops_args.append(arg)\n",
    "\n",
    "# process multi-tasking\n",
    "with multiprocessing.Pool() as p:\n",
    "    result = p.starmap(dataframe_gu, ops_args)\n",
    "end = time.time()\n",
    "print(f\"Total time consumed {(end-start)/60} minutes\")"
   ]
  },
  {
   "cell_type": "code",
   "execution_count": null,
   "id": "9d32745c-08d3-47ea-917a-6ca901c5e8cd",
   "metadata": {},
   "outputs": [],
   "source": []
  }
 ],
 "metadata": {
  "kernelspec": {
   "display_name": "Python 3 (ipykernel)",
   "language": "python",
   "name": "python3"
  },
  "language_info": {
   "codemirror_mode": {
    "name": "ipython",
    "version": 3
   },
   "file_extension": ".py",
   "mimetype": "text/x-python",
   "name": "python",
   "nbconvert_exporter": "python",
   "pygments_lexer": "ipython3",
   "version": "3.9.13"
  }
 },
 "nbformat": 4,
 "nbformat_minor": 5
}
